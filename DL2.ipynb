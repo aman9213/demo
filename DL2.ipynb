{
  "nbformat": 4,
  "nbformat_minor": 0,
  "metadata": {
    "colab": {
      "provenance": [],
      "authorship_tag": "ABX9TyNIrcR3zX6XhrlxFprUf1wX",
      "include_colab_link": true
    },
    "kernelspec": {
      "name": "python3",
      "display_name": "Python 3"
    },
    "language_info": {
      "name": "python"
    }
  },
  "cells": [
    {
      "cell_type": "markdown",
      "metadata": {
        "id": "view-in-github",
        "colab_type": "text"
      },
      "source": [
        "<a href=\"https://colab.research.google.com/github/aman9213/demo/blob/master/DL2.ipynb\" target=\"_parent\"><img src=\"https://colab.research.google.com/assets/colab-badge.svg\" alt=\"Open In Colab\"/></a>"
      ]
    },
    {
      "cell_type": "code",
      "execution_count": 1,
      "metadata": {
        "id": "bEODjMy712_B"
      },
      "outputs": [],
      "source": [
        "import os \n",
        "import cv2\n",
        "import numpy as np\n",
        "from tqdm import tqdm\n",
        "import torch\n",
        "import torch.nn as nn\n",
        "import torchvision\n",
        "from torchvision.transforms import transforms\n",
        "from torch.utils.data import DataLoader \n",
        "import pathlib"
      ]
    },
    {
      "cell_type": "code",
      "source": [
        "from google.colab import files"
      ],
      "metadata": {
        "id": "8bATSpae2fNB"
      },
      "execution_count": 2,
      "outputs": []
    },
    {
      "cell_type": "code",
      "source": [
        "from google.colab import drive\n",
        "drive.mount('/content/drive')\n"
      ],
      "metadata": {
        "colab": {
          "base_uri": "https://localhost:8080/"
        },
        "id": "I1cENP3g2guq",
        "outputId": "b3b5221f-b7e0-4cfd-d6a2-b5339735135d"
      },
      "execution_count": 3,
      "outputs": [
        {
          "output_type": "stream",
          "name": "stdout",
          "text": [
            "Mounted at /content/drive\n"
          ]
        }
      ]
    },
    {
      "cell_type": "code",
      "source": [
        "import zipfile\n",
        "import os\n",
        "\n",
        "zip_ref = zipfile.ZipFile('/content/drive/MyDrive/nature_12K.zip', 'r') #Opens the zip file in read mode\n",
        "zip_ref.extractall('/nature') #Extracts the files into the /nature folder\n",
        "zip_ref.close()"
      ],
      "metadata": {
        "id": "Um07IK4i2qQ8"
      },
      "execution_count": 4,
      "outputs": []
    },
    {
      "cell_type": "code",
      "source": [
        "transformer=transforms.Compose([transforms.Resize((200,200)),transforms.RandomHorizontalFlip(),transforms.RandomRotation((-90,90)),transforms.RandomAffine(degrees=0,scale=(0.3,0.3)),transforms.ToTensor(),transforms.Normalize([0.5,0.5,0.5],[0.5,0.5,0.5])])\n",
        "                            \n"
      ],
      "metadata": {
        "id": "VxyCElkE2x4E"
      },
      "execution_count": 5,
      "outputs": []
    },
    {
      "cell_type": "code",
      "source": [
        "batch=256\n",
        "#dataloader\n",
        "train_path='/nature/inaturalist_12K/train'\n",
        "test_path='/nature/inaturalist_12K/val'\n",
        "train_loader=DataLoader(torchvision.datasets.ImageFolder(train_path,transform=transformer),\n",
        "                        batch_size=batch,shuffle=True)\n",
        "test_loader=DataLoader(torchvision.datasets.ImageFolder(test_path,transform=transformer),\n",
        "                        batch_size=batch,shuffle=True)\n"
      ],
      "metadata": {
        "id": "xpLhg1OKG7FV"
      },
      "execution_count": 6,
      "outputs": []
    },
    {
      "cell_type": "code",
      "source": [
        "root=pathlib.Path(train_path)\n",
        "classes=sorted([j.name.split('/')[-1] for j in root.iterdir()])"
      ],
      "metadata": {
        "id": "L5jEiu5gKOu1"
      },
      "execution_count": 7,
      "outputs": []
    },
    {
      "cell_type": "code",
      "source": [
        "classes=(classes[1:])"
      ],
      "metadata": {
        "id": "dxl3VlAHLGFX"
      },
      "execution_count": 8,
      "outputs": []
    },
    {
      "cell_type": "code",
      "source": [
        "print(classes)"
      ],
      "metadata": {
        "colab": {
          "base_uri": "https://localhost:8080/"
        },
        "id": "iL7PrwUfLLNF",
        "outputId": "cd9fbc9e-f271-4337-ea9f-a6f1527a15b1"
      },
      "execution_count": 9,
      "outputs": [
        {
          "output_type": "stream",
          "name": "stdout",
          "text": [
            "['Amphibia', 'Animalia', 'Arachnida', 'Aves', 'Fungi', 'Insecta', 'Mammalia', 'Mollusca', 'Plantae', 'Reptilia']\n"
          ]
        }
      ]
    },
    {
      "cell_type": "code",
      "source": [
        "K=32\n",
        "F=3\n",
        "batch_norm=True\n",
        "activation='Relu'\n",
        "nodes=512\n",
        "class ConvNet(nn.Module):\n",
        "  def __init__(self,num_class=10):\n",
        "    super(ConvNet,self).__init__()\n",
        "    self.conv1=nn.Conv2d(in_channels=3,out_channels=K,kernel_size=F,stride=1,padding=(F-1)/2) #its output size will be=(batch=256,K,200,200)\n",
        "    if batch_norm:\n",
        "      self.bn1=nn.BatchNorm2d(K)\n",
        "    if activation=='Relu':\n",
        "      self.relu1=nn.ReLU()\n",
        "    self.maxpool1=nn.MaxPool2d(kernel_size=2)## shape=(256,K,100,100)\n",
        "    #layer 2\n",
        "    self.conv2=nn.Conv2d(in_channels=K,out_channels=K,kernel_size=F,stride=1,padding=(F-1)/2) #its output size will be=(batch=256,K,200,200)\n",
        "    if batch_norm:\n",
        "      self.bn2=nn.BatchNorm2d(K)\n",
        "    if activation=='Relu':\n",
        "      self.relu2=nn.ReLU()\n",
        "    self.maxpool2=nn.MaxPool2d(kernel_size=2)\n",
        "    ##shape=(256,K,50,50)\n",
        "    # layer 3\n",
        "    self.conv3=nn.Conv2d(in_channels=K,out_channels=K,kernel_size=F,stride=1,padding=(F-1)/2) #its output size will be=(batch=256,K,200,200)\n",
        "    if batch_norm:\n",
        "      self.bn3=nn.BatchNorm2d(K)\n",
        "    if activation=='Relu':\n",
        "      self.relu3=nn.ReLU()\n",
        "    self.maxpool3=nn.MaxPool2d(kernel_size=2)\n",
        "    ##shape=(256,K,25,25)\n",
        "    #layer 4\n",
        "    self.conv4=nn.Conv2d(in_channels=K,out_channels=K,kernel_size=F,stride=1,padding=(F-1)/2) #its output size will be=(batch=256,K,200,200)\n",
        "    if batch_norm:\n",
        "      self.bn4=nn.BatchNorm2d(K)\n",
        "    if activation=='Relu':\n",
        "      self.relu4=nn.ReLU()\n",
        "    self.maxpool4=nn.MaxPool2d(kernel_size=2)\n",
        "    ## shape=(256,K,12,12)\n",
        "    #layer 5\n",
        "    self.conv5=nn.Conv2d(in_channels=K,out_channels=K,kernel_size=F,stride=1,padding=(F-1)/2) #its output size will be=(batch=256,K,200,200)\n",
        "    if batch_norm:\n",
        "      self.bn5=nn.BatchNorm2d(K)\n",
        "    if activation=='Relu':\n",
        "      self.relu5=nn.ReLU()\n",
        "    self.maxpool5=nn.MaxPool2d(kernel_size=2)\n",
        "    ## shape(256,K,6,6)\n",
        "    #print(len(self.maxpool5))\n",
        "     ## shape(256,K,)\n",
        "    ## FC layer\n",
        "    self.fc1=nn.Linear(in_features=6*6*K,out_features=nodes)\n",
        "    self.fc2=nn.Linear(in_features=nodes,out_features=10)\n",
        "\n",
        "\n",
        "net=ConvNet()\n",
        "print(net)"
      ],
      "metadata": {
        "colab": {
          "base_uri": "https://localhost:8080/"
        },
        "id": "PhWQVfq2NFms",
        "outputId": "7c4953fe-7e3f-4845-ae28-37c32d5be5e5"
      },
      "execution_count": 20,
      "outputs": [
        {
          "output_type": "stream",
          "name": "stdout",
          "text": [
            "ConvNet(\n",
            "  (conv1): Conv2d(3, 32, kernel_size=(3, 3), stride=(1, 1), padding=(1.0, 1.0))\n",
            "  (bn1): BatchNorm2d(32, eps=1e-05, momentum=0.1, affine=True, track_running_stats=True)\n",
            "  (relu1): ReLU()\n",
            "  (maxpool1): MaxPool2d(kernel_size=2, stride=2, padding=0, dilation=1, ceil_mode=False)\n",
            "  (conv2): Conv2d(32, 32, kernel_size=(3, 3), stride=(1, 1), padding=(1.0, 1.0))\n",
            "  (bn2): BatchNorm2d(32, eps=1e-05, momentum=0.1, affine=True, track_running_stats=True)\n",
            "  (relu2): ReLU()\n",
            "  (maxpool2): MaxPool2d(kernel_size=2, stride=2, padding=0, dilation=1, ceil_mode=False)\n",
            "  (conv3): Conv2d(32, 32, kernel_size=(3, 3), stride=(1, 1), padding=(1.0, 1.0))\n",
            "  (bn3): BatchNorm2d(32, eps=1e-05, momentum=0.1, affine=True, track_running_stats=True)\n",
            "  (relu3): ReLU()\n",
            "  (maxpool3): MaxPool2d(kernel_size=2, stride=2, padding=0, dilation=1, ceil_mode=False)\n",
            "  (conv4): Conv2d(32, 32, kernel_size=(3, 3), stride=(1, 1), padding=(1.0, 1.0))\n",
            "  (bn4): BatchNorm2d(32, eps=1e-05, momentum=0.1, affine=True, track_running_stats=True)\n",
            "  (relu4): ReLU()\n",
            "  (maxpool4): MaxPool2d(kernel_size=2, stride=2, padding=0, dilation=1, ceil_mode=False)\n",
            "  (conv5): Conv2d(32, 32, kernel_size=(3, 3), stride=(1, 1), padding=(1.0, 1.0))\n",
            "  (bn5): BatchNorm2d(32, eps=1e-05, momentum=0.1, affine=True, track_running_stats=True)\n",
            "  (relu5): ReLU()\n",
            "  (maxpool5): MaxPool2d(kernel_size=2, stride=2, padding=0, dilation=1, ceil_mode=False)\n",
            "  (fc1): Linear(in_features=1152, out_features=512, bias=True)\n",
            "  (fc2): Linear(in_features=512, out_features=10, bias=True)\n",
            ")\n"
          ]
        }
      ]
    },
    {
      "cell_type": "code",
      "source": [],
      "metadata": {
        "id": "ITx6LfLbuS0t"
      },
      "execution_count": null,
      "outputs": []
    }
  ]
}